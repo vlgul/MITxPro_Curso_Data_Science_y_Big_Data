{
  "nbformat": 4,
  "nbformat_minor": 0,
  "metadata": {
    "hide_input": false,
    "kernelspec": {
      "name": "python3",
      "display_name": "Python 3"
    },
    "toc": {
      "base_numbering": 1,
      "nav_menu": {},
      "number_sections": true,
      "sideBar": true,
      "skip_h1_title": false,
      "title_cell": "Table of Contents",
      "title_sidebar": "Contents",
      "toc_cell": true,
      "toc_position": {},
      "toc_section_display": true,
      "toc_window_display": false
    },
    "varInspector": {
      "cols": {
        "lenName": 16,
        "lenType": 16,
        "lenVar": 40
      },
      "kernels_config": {
        "python": {
          "delete_cmd_postfix": "",
          "delete_cmd_prefix": "del ",
          "library": "var_list.py",
          "varRefreshCmd": "print(var_dic_list())"
        },
        "r": {
          "delete_cmd_postfix": ") ",
          "delete_cmd_prefix": "rm(",
          "library": "var_list.r",
          "varRefreshCmd": "cat(var_dic_list()) "
        }
      },
      "types_to_exclude": [
        "module",
        "function",
        "builtin_function_or_method",
        "instance",
        "_Feature"
      ],
      "window_display": true
    },
    "colab": {
      "provenance": [],
      "include_colab_link": true
    }
  },
  "cells": [
    {
      "cell_type": "markdown",
      "metadata": {
        "id": "view-in-github",
        "colab_type": "text"
      },
      "source": [
        "<a href=\"https://colab.research.google.com/github/vlgul/MITxPro_Curso_Data_Science_y_Big_Data/blob/main/MITxPro_Caso_de_Estudio_2_3.ipynb\" target=\"_parent\"><img src=\"https://colab.research.google.com/assets/colab-badge.svg\" alt=\"Open In Colab\"/></a>"
      ]
    },
    {
      "cell_type": "markdown",
      "metadata": {
        "id": "OOF55HUKXq4Q"
      },
      "source": [
        "# Caso de Estudio 2.3 - ¿Crecen más rápido los países pobres que los ricos?\n"
      ]
    },
    {
      "cell_type": "markdown",
      "metadata": {
        "id": "-4F9CWywe4P2"
      },
      "source": [
        "Configuración del *notebook*:"
      ]
    },
    {
      "cell_type": "markdown",
      "metadata": {
        "id": "Azi08KciuAmF"
      },
      "source": [
        "Sincronice su cuenta de Google. Para ello, siga el link que aparece en la salida de la siguiente celda una vez ejecutada. Copie el código que le aparece en pantalla e introdúzcalo en la salida de la celda. Una vez vea el mensaje: `Google Drive sincronizado con éxito!` puede continuar ejecutando el resto de celdas."
      ]
    },
    {
      "cell_type": "code",
      "metadata": {
        "id": "jGYcsLShi5Tp",
        "colab": {
          "base_uri": "https://localhost:8080/"
        },
        "outputId": "ab601945-f5a9-4683-b105-074a36a2e008"
      },
      "source": [
        "from google.colab import auth\n",
        "auth.authenticate_user()\n",
        "\n",
        "from pydrive.auth import GoogleAuth\n",
        "from pydrive.drive import GoogleDrive\n",
        "from google.colab import auth\n",
        "from oauth2client.client import GoogleCredentials\n",
        "\n",
        "gauth = GoogleAuth()\n",
        "gauth.credentials = GoogleCredentials.get_application_default()\n",
        "drive = GoogleDrive(gauth)\n",
        "data_drop = drive.CreateFile({'id':'1wAZ5JZuq2_zKqzDQlIuOxUSTfk9N_tq5'})\n",
        "data_drop.GetContentFile('growth.Rdata')\n",
        "\n",
        "print('Google Drive sincronizado con éxito!')"
      ],
      "execution_count": 1,
      "outputs": [
        {
          "output_type": "stream",
          "name": "stdout",
          "text": [
            "Google Drive sincronizado con éxito!\n"
          ]
        }
      ]
    },
    {
      "cell_type": "code",
      "metadata": {
        "id": "UF-N5UbBiNyA",
        "colab": {
          "base_uri": "https://localhost:8080/"
        },
        "outputId": "917f2e9e-afaa-4eed-d49b-d4d1defe2f06"
      },
      "source": [
        "! pip install rpy2==3.5.1\n",
        "%load_ext rpy2.ipython"
      ],
      "execution_count": 3,
      "outputs": [
        {
          "output_type": "stream",
          "name": "stdout",
          "text": [
            "Looking in indexes: https://pypi.org/simple, https://us-python.pkg.dev/colab-wheels/public/simple/\n",
            "Collecting rpy2==3.5.1\n",
            "  Downloading rpy2-3.5.1.tar.gz (201 kB)\n",
            "\u001b[2K     \u001b[90m━━━━━━━━━━━━━━━━━━━━━━━━━━━━━━━━━━━━━━━\u001b[0m \u001b[32m201.7/201.7 kB\u001b[0m \u001b[31m5.2 MB/s\u001b[0m eta \u001b[36m0:00:00\u001b[0m\n",
            "\u001b[?25h  Preparing metadata (setup.py) ... \u001b[?25l\u001b[?25hdone\n",
            "Requirement already satisfied: cffi>=1.10.0 in /usr/local/lib/python3.10/dist-packages (from rpy2==3.5.1) (1.15.1)\n",
            "Requirement already satisfied: jinja2 in /usr/local/lib/python3.10/dist-packages (from rpy2==3.5.1) (3.1.2)\n",
            "Requirement already satisfied: pytz in /usr/local/lib/python3.10/dist-packages (from rpy2==3.5.1) (2022.7.1)\n",
            "Requirement already satisfied: tzlocal in /usr/local/lib/python3.10/dist-packages (from rpy2==3.5.1) (4.3)\n",
            "Requirement already satisfied: pycparser in /usr/local/lib/python3.10/dist-packages (from cffi>=1.10.0->rpy2==3.5.1) (2.21)\n",
            "Requirement already satisfied: MarkupSafe>=2.0 in /usr/local/lib/python3.10/dist-packages (from jinja2->rpy2==3.5.1) (2.1.2)\n",
            "Requirement already satisfied: pytz-deprecation-shim in /usr/local/lib/python3.10/dist-packages (from tzlocal->rpy2==3.5.1) (0.1.0.post0)\n",
            "Requirement already satisfied: tzdata in /usr/local/lib/python3.10/dist-packages (from pytz-deprecation-shim->tzlocal->rpy2==3.5.1) (2023.3)\n",
            "Building wheels for collected packages: rpy2\n",
            "  Building wheel for rpy2 (setup.py) ... \u001b[?25l\u001b[?25hdone\n",
            "  Created wheel for rpy2: filename=rpy2-3.5.1-cp310-cp310-linux_x86_64.whl size=318088 sha256=309708f0878698f6d072c32cff44f3f3e4004f80498834f51efd944573146b40\n",
            "  Stored in directory: /root/.cache/pip/wheels/73/a6/ff/4e75dd1ce1cfa2b9a670cbccf6a1e41c553199e9b25f05d953\n",
            "Successfully built rpy2\n",
            "Installing collected packages: rpy2\n",
            "  Attempting uninstall: rpy2\n",
            "    Found existing installation: rpy2 3.5.5\n",
            "    Uninstalling rpy2-3.5.5:\n",
            "      Successfully uninstalled rpy2-3.5.5\n",
            "Successfully installed rpy2-3.5.1\n"
          ]
        }
      ]
    },
    {
      "cell_type": "markdown",
      "metadata": {
        "id": "EB17ltjZXq4R"
      },
      "source": [
        "Instalar e importar librerías: (ignorar resultados a no ser que no se muestre la frase: `¡Librerías instaladas con éxito!`)"
      ]
    },
    {
      "cell_type": "code",
      "metadata": {
        "id": "GMfvGKTGkbU-",
        "colab": {
          "base_uri": "https://localhost:8080/"
        },
        "outputId": "3d955e94-c8f0-4d24-fe81-7c5a35e7477b"
      },
      "source": [
        "%%R\n",
        "install.packages(\"hdm\")\n",
        "cat('\\n¡Librerías instaladas con éxito!')\n",
        "\n",
        "# Importar librerías\n",
        "library(hdm)\n",
        "cat('\\n¡Librerías importadas con éxito!')"
      ],
      "execution_count": 5,
      "outputs": [
        {
          "output_type": "stream",
          "name": "stderr",
          "text": [
            "WARNING:rpy2.rinterface_lib.callbacks:R[write to console]: Installing package into ‘/usr/local/lib/R/site-library’\n",
            "(as ‘lib’ is unspecified)\n",
            "\n",
            "WARNING:rpy2.rinterface_lib.callbacks:R[write to console]: trying URL 'https://cran.rstudio.com/src/contrib/hdm_0.3.1.tar.gz'\n",
            "\n",
            "WARNING:rpy2.rinterface_lib.callbacks:R[write to console]: Content type 'application/x-gzip'\n",
            "WARNING:rpy2.rinterface_lib.callbacks:R[write to console]:  length 1414669 bytes (1.3 MB)\n",
            "\n",
            "WARNING:rpy2.rinterface_lib.callbacks:R[write to console]: =\n",
            "WARNING:rpy2.rinterface_lib.callbacks:R[write to console]: =\n",
            "WARNING:rpy2.rinterface_lib.callbacks:R[write to console]: =\n",
            "WARNING:rpy2.rinterface_lib.callbacks:R[write to console]: =\n",
            "WARNING:rpy2.rinterface_lib.callbacks:R[write to console]: =\n",
            "WARNING:rpy2.rinterface_lib.callbacks:R[write to console]: =\n",
            "WARNING:rpy2.rinterface_lib.callbacks:R[write to console]: =\n",
            "WARNING:rpy2.rinterface_lib.callbacks:R[write to console]: =\n",
            "WARNING:rpy2.rinterface_lib.callbacks:R[write to console]: =\n",
            "WARNING:rpy2.rinterface_lib.callbacks:R[write to console]: =\n",
            "WARNING:rpy2.rinterface_lib.callbacks:R[write to console]: =\n",
            "WARNING:rpy2.rinterface_lib.callbacks:R[write to console]: =\n",
            "WARNING:rpy2.rinterface_lib.callbacks:R[write to console]: =\n",
            "WARNING:rpy2.rinterface_lib.callbacks:R[write to console]: =\n",
            "WARNING:rpy2.rinterface_lib.callbacks:R[write to console]: =\n",
            "WARNING:rpy2.rinterface_lib.callbacks:R[write to console]: =\n",
            "WARNING:rpy2.rinterface_lib.callbacks:R[write to console]: =\n",
            "WARNING:rpy2.rinterface_lib.callbacks:R[write to console]: =\n",
            "WARNING:rpy2.rinterface_lib.callbacks:R[write to console]: =\n",
            "WARNING:rpy2.rinterface_lib.callbacks:R[write to console]: =\n",
            "WARNING:rpy2.rinterface_lib.callbacks:R[write to console]: =\n",
            "WARNING:rpy2.rinterface_lib.callbacks:R[write to console]: =\n",
            "WARNING:rpy2.rinterface_lib.callbacks:R[write to console]: =\n",
            "WARNING:rpy2.rinterface_lib.callbacks:R[write to console]: =\n",
            "WARNING:rpy2.rinterface_lib.callbacks:R[write to console]: =\n",
            "WARNING:rpy2.rinterface_lib.callbacks:R[write to console]: =\n",
            "WARNING:rpy2.rinterface_lib.callbacks:R[write to console]: =\n",
            "WARNING:rpy2.rinterface_lib.callbacks:R[write to console]: =\n",
            "WARNING:rpy2.rinterface_lib.callbacks:R[write to console]: =\n",
            "WARNING:rpy2.rinterface_lib.callbacks:R[write to console]: =\n",
            "WARNING:rpy2.rinterface_lib.callbacks:R[write to console]: =\n",
            "WARNING:rpy2.rinterface_lib.callbacks:R[write to console]: =\n",
            "WARNING:rpy2.rinterface_lib.callbacks:R[write to console]: =\n",
            "WARNING:rpy2.rinterface_lib.callbacks:R[write to console]: =\n",
            "WARNING:rpy2.rinterface_lib.callbacks:R[write to console]: =\n",
            "WARNING:rpy2.rinterface_lib.callbacks:R[write to console]: =\n",
            "WARNING:rpy2.rinterface_lib.callbacks:R[write to console]: =\n",
            "WARNING:rpy2.rinterface_lib.callbacks:R[write to console]: =\n",
            "WARNING:rpy2.rinterface_lib.callbacks:R[write to console]: =\n",
            "WARNING:rpy2.rinterface_lib.callbacks:R[write to console]: =\n",
            "WARNING:rpy2.rinterface_lib.callbacks:R[write to console]: =\n",
            "WARNING:rpy2.rinterface_lib.callbacks:R[write to console]: =\n",
            "WARNING:rpy2.rinterface_lib.callbacks:R[write to console]: =\n",
            "WARNING:rpy2.rinterface_lib.callbacks:R[write to console]: =\n",
            "WARNING:rpy2.rinterface_lib.callbacks:R[write to console]: =\n",
            "WARNING:rpy2.rinterface_lib.callbacks:R[write to console]: =\n",
            "WARNING:rpy2.rinterface_lib.callbacks:R[write to console]: =\n",
            "WARNING:rpy2.rinterface_lib.callbacks:R[write to console]: =\n",
            "WARNING:rpy2.rinterface_lib.callbacks:R[write to console]: =\n",
            "WARNING:rpy2.rinterface_lib.callbacks:R[write to console]: =\n",
            "WARNING:rpy2.rinterface_lib.callbacks:R[write to console]: \n",
            "\n",
            "WARNING:rpy2.rinterface_lib.callbacks:R[write to console]: downloaded 1.3 MB\n",
            "\n",
            "\n",
            "WARNING:rpy2.rinterface_lib.callbacks:R[write to console]: \n",
            "\n",
            "WARNING:rpy2.rinterface_lib.callbacks:R[write to console]: \n",
            "WARNING:rpy2.rinterface_lib.callbacks:R[write to console]: The downloaded source packages are in\n",
            "\t‘/tmp/RtmpGTVKH2/downloaded_packages’\n",
            "WARNING:rpy2.rinterface_lib.callbacks:R[write to console]: \n",
            "WARNING:rpy2.rinterface_lib.callbacks:R[write to console]: \n",
            "\n"
          ]
        },
        {
          "output_type": "stream",
          "name": "stdout",
          "text": [
            "\n",
            "¡Librerías instaladas con éxito!\n",
            "¡Librerías importadas con éxito!"
          ]
        }
      ]
    },
    {
      "cell_type": "markdown",
      "metadata": {
        "id": "XL1hYljwXq4V"
      },
      "source": [
        "## Datos\n"
      ]
    },
    {
      "cell_type": "code",
      "metadata": {
        "ExecuteTime": {
          "end_time": "2020-06-10T17:15:43.839762Z",
          "start_time": "2020-06-10T17:15:43.757Z"
        },
        "id": "yG_HIB_AXq4W",
        "colab": {
          "base_uri": "https://localhost:8080/"
        },
        "outputId": "7c2da581-3c6c-4712-b9e1-c818e523b2c1"
      },
      "source": [
        "%%R\n",
        "# Cargar la base de datos\n",
        "load(file='growth.Rdata')\n",
        "\n",
        "# Ver las variables de la base de datos\n",
        "class(growth)\n",
        "str(growth)\n",
        "\n",
        "# Mostrar dimensiones de la base de datos\n",
        "dims  <- dim(growth)\n",
        "cat('\\nDimensiones de la base de datos:',toString(dims),'\\n',fill = TRUE)"
      ],
      "execution_count": 6,
      "outputs": [
        {
          "output_type": "stream",
          "name": "stdout",
          "text": [
            "'data.frame':\t90 obs. of  63 variables:\n",
            " $ Outcome  : num  -0.0243 0.1005 0.0671 0.0641 0.0279 ...\n",
            " $ intercept: int  1 1 1 1 1 1 1 1 1 1 ...\n",
            " $ gdpsh465 : num  6.59 6.83 8.9 7.57 7.16 ...\n",
            " $ bmp1l    : num  0.284 0.614 0 0.2 0.174 ...\n",
            " $ freeop   : num  0.153 0.314 0.204 0.249 0.299 ...\n",
            " $ freetar  : num  0.04389 0.06183 0.00919 0.03627 0.03737 ...\n",
            " $ h65      : num  0.007 0.019 0.26 0.061 0.017 0.023 0.039 0.024 0.402 0.145 ...\n",
            " $ hm65     : num  0.013 0.032 0.325 0.07 0.027 0.038 0.063 0.035 0.488 0.173 ...\n",
            " $ hf65     : num  0.001 0.007 0.201 0.051 0.007 0.006 0.014 0.013 0.314 0.114 ...\n",
            " $ p65      : num  0.29 0.91 1 1 0.82 0.5 0.92 0.69 1 1 ...\n",
            " $ pm65     : num  0.37 1 1 1 0.85 0.55 0.94 0.69 1 1 ...\n",
            " $ pf65     : num  0.21 0.65 1 1 0.81 0.5 0.92 0.69 1 1 ...\n",
            " $ s65      : num  0.04 0.16 0.56 0.24 0.17 0.08 0.17 0.14 0.9 0.28 ...\n",
            " $ sm65     : num  0.06 0.23 0.62 0.22 0.15 0.1 0.21 0.14 0.9 0.26 ...\n",
            " $ sf65     : num  0.02 0.09 0.51 0.31 0.13 0.07 0.12 0.13 0.9 0.4 ...\n",
            " $ fert65   : num  6.67 6.97 3.11 6.26 6.71 6.7 6.72 7.19 2.91 3.07 ...\n",
            " $ mort65   : num  0.16 0.145 0.024 0.072 0.12 0.112 0.082 0.121 0.025 0.058 ...\n",
            " $ lifee065 : num  3.69 3.93 4.27 4.17 4 ...\n",
            " $ gpop1    : num  0.0203 0.0185 0.0188 0.0345 0.031 0.0303 0.032 0.0268 0.0146 0.0155 ...\n",
            " $ fert1    : num  6.68 7.11 3.66 6.83 6.82 ...\n",
            " $ mort1    : num  0.165 0.154 0.027 0.085 0.131 0.119 0.087 0.131 0.025 0.06 ...\n",
            " $ invsh41  : num  0.119 0.1205 0.231 0.1293 0.0793 ...\n",
            " $ geetot1  : num  0.0195 0.0556 0.0465 0.0375 0.0257 0.0151 0.0139 0.0173 0.0474 0.0236 ...\n",
            " $ geerec1  : num  0.0176 0.0369 0.0365 0.035 0.0224 0.0156 0.0134 0.0165 0.0383 0.0223 ...\n",
            " $ gde1     : num  0.019 0.019 0.04 0.011 0.012 0.009 0.007 0.018 0.088 0.021 ...\n",
            " $ govwb1   : num  0.0931 0.1589 0.1442 0.1165 0.0971 ...\n",
            " $ govsh41  : num  0.116 0.156 0.137 0.202 0.169 ...\n",
            " $ gvxdxe41 : num  0.0788 0.1 0.06 0.1562 0.1343 ...\n",
            " $ high65   : num  0.12 0.7 16.67 3.1 0.67 ...\n",
            " $ highm65  : num  0.23 1.18 17.95 3.4 0.98 ...\n",
            " $ highf65  : num  0.01 0.2 15.41 2.8 0.36 ...\n",
            " $ highc65  : num  0.09 0.63 4.5 2.11 0.45 0.48 1.09 0.41 11.6 2.25 ...\n",
            " $ highcm65 : num  0.18 1.04 5.7 2.28 0.66 ...\n",
            " $ highcf65 : num  0.01 0.2 3.31 1.95 0.25 0.21 0.46 0.07 9.27 1.43 ...\n",
            " $ human65  : num  0.301 0.706 8.317 3.833 1.9 ...\n",
            " $ humanm65 : num  0.568 1.138 8.249 3.86 2.084 ...\n",
            " $ humanf65 : num  0.043 0.257 8.384 3.807 1.72 ...\n",
            " $ hyr65    : num  0.004 0.027 0.424 0.104 0.022 0.024 0.059 0.02 0.616 0.12 ...\n",
            " $ hyrm65   : num  0.008 0.045 0.473 0.114 0.033 0.037 0.097 0.038 0.723 0.166 ...\n",
            " $ hyrf65   : num  0 0.008 0.375 0.095 0.012 0.01 0.022 0.003 0.517 0.074 ...\n",
            " $ no65     : num  89.5 89.1 1.4 20.6 58.7 ...\n",
            " $ nom65    : num  80 82.3 1.4 20.6 55.6 ...\n",
            " $ nof65    : num  98.6 96.1 1.4 20.6 61.8 ...\n",
            " $ pinstab1 : num  0 0.0232 0 0 0.2 ...\n",
            " $ pop65    : int  12359 4630 19678 1482 3006 4568 44752 1750 194303 22283 ...\n",
            " $ worker65 : num  0.347 0.27 0.387 0.301 0.331 ...\n",
            " $ pop1565  : num  0.444 0.447 0.318 0.467 0.456 ...\n",
            " $ pop6565  : num  0.0276 0.0356 0.0767 0.031 0.0263 ...\n",
            " $ sec65    : num  0.45 3 36.74 7.6 5.07 ...\n",
            " $ secm65   : num  0.75 4.74 33.5 7.5 5.37 ...\n",
            " $ secf65   : num  0.17 1.2 39.95 7.7 4.78 ...\n",
            " $ secc65   : num  0.13 1.36 15.68 2.76 2.17 ...\n",
            " $ seccm65  : num  0.21 2.05 13.19 2.89 2.23 ...\n",
            " $ seccf65  : num  0.04 0.64 18.14 2.63 2.11 ...\n",
            " $ syr65    : num  0.033 0.173 2.573 0.438 0.257 ...\n",
            " $ syrm65   : num  0.057 0.274 2.478 0.453 0.287 ...\n",
            " $ syrf65   : num  0.01 0.067 2.667 0.424 0.229 ...\n",
            " $ teapri65 : num  47.6 57.1 26.5 27.8 34.5 34.3 46.6 34 28.2 20.3 ...\n",
            " $ teasec65 : num  17.3 18 20.7 22.7 17.6 8.1 14.7 16.1 20.6 7.2 ...\n",
            " $ ex1      : num  0.0729 0.094 0.1741 0.1265 0.1211 ...\n",
            " $ im1      : num  0.0667 0.1438 0.175 0.1496 0.1308 ...\n",
            " $ xr65     : num  0.348 0.525 1.082 6.625 2.5 ...\n",
            " $ tot1     : num  -0.01473 0.00575 -0.01004 -0.00219 0.00328 ...\n",
            "\n",
            "Dimensiones de la base de datos: 90, 63 \n",
            "\n"
          ]
        }
      ]
    },
    {
      "cell_type": "code",
      "metadata": {
        "id": "q3iVi6xWRZPd"
      },
      "source": [
        "%%R\n",
        "write.csv(growth,'prueba.csv')"
      ],
      "execution_count": 7,
      "outputs": []
    },
    {
      "cell_type": "code",
      "metadata": {
        "ExecuteTime": {
          "end_time": "2020-06-10T17:15:43.855973Z",
          "start_time": "2020-06-10T17:15:43.809Z"
        },
        "id": "wxhRsK0KXq4a"
      },
      "source": [
        "%%R\n",
        "# Obtener los nombres de las variables\n",
        "varnames= colnames(growth)\n",
        "# Extraer los nombres de los controles y del regresor objetivo de varnames\n",
        "xnames     <- varnames[-c(1,2,3)]     # nombres de las variables de X\n",
        "dandxnames <- varnames[-c(1,2)]       # nombres de las variables de X y D"
      ],
      "execution_count": 8,
      "outputs": []
    },
    {
      "cell_type": "markdown",
      "metadata": {
        "id": "uG5-rTSKXq4c"
      },
      "source": [
        "## Metodología"
      ]
    },
    {
      "cell_type": "code",
      "metadata": {
        "ExecuteTime": {
          "end_time": "2020-06-10T17:15:44.222787Z",
          "start_time": "2020-06-10T17:15:43.927Z"
        },
        "id": "DLKj9nvhXq4d"
      },
      "source": [
        "%%R\n",
        "# crear fórmulas \"pegando\" nombres (así se guardan los nombre a mostrar)\n",
        "fmla      <-  as.formula(paste(\"Outcome ~ \", paste(dandxnames, collapse= \"+\")))\n",
        "full.fit  <-  lm(fmla, data=growth)\n",
        "fmla.y    <-  as.formula(paste(\"Outcome ~ \", paste(xnames, collapse= \"+\")))\n",
        "fmla.d    <-  as.formula(paste(\"gdpsh465~ \", paste(xnames, collapse= \"+\")))\n",
        "\n",
        "\n",
        "# d parcial e y parcial por regresión lineal\n",
        "rY       <- rlasso(fmla.y, data =growth)$res\n",
        "rD       <- rlasso(fmla.d, data =growth)$res\n",
        "\n",
        "\n",
        "# regresión lineal de Y parcialmente extraida en la D parcialmente extraída \n",
        "partial.fit.lasso <- lm(rY~rD-1)\n",
        "\n",
        "# crear tabla para recoger los resultados\n",
        "table      <- matrix(0, 2, 4)\n",
        "table[1,1:2]  <- summary(full.fit)$coef[\"gdpsh465\",1:2]\n",
        "table[2,1:2]  <- summary(partial.fit.lasso)$coef[1,1:2]\n",
        "table[1,3:4]  <- confint(full.fit, level=0.95, 'gdpsh465')[1:2]\n",
        "table[2,3:4]  <- confint(partial.fit.lasso, level=0.95, 'rD')[1:2] \n",
        "\n",
        "# asignar nombre de columnas y filas\n",
        "colnames(table) <- c(\"Estimación (beta)\", \"Error estándar\",\"2.5%\",\"97.5%\")\n",
        "rownames(table) <- c(\"Mínimos cuadrados ord. (OLS)\", \"Extracción parcial con Lasso\")"
      ],
      "execution_count": 9,
      "outputs": []
    },
    {
      "cell_type": "markdown",
      "metadata": {
        "id": "3jL-Amu0Xq4f"
      },
      "source": [
        "## Resultados"
      ]
    },
    {
      "cell_type": "code",
      "metadata": {
        "ExecuteTime": {
          "end_time": "2020-06-10T17:15:44.234624Z",
          "start_time": "2020-06-10T17:15:43.989Z"
        },
        "id": "Ee-hnpm_Xq4f",
        "colab": {
          "base_uri": "https://localhost:8080/"
        },
        "outputId": "75e70714-1ea1-4acc-c334-52a1130ffdd3"
      },
      "source": [
        "%%R\n",
        "# Mostrar resultados\n",
        "print(table, digits=2)"
      ],
      "execution_count": 10,
      "outputs": [
        {
          "output_type": "stream",
          "name": "stdout",
          "text": [
            "                             Estimación (beta) Error estándar   2.5%  97.5%\n",
            "Mínimos cuadrados ord. (OLS)           -0.0094          0.030 -0.071  0.052\n",
            "Extracción parcial con Lasso           -0.0498          0.014 -0.077 -0.022\n"
          ]
        }
      ]
    }
  ]
}